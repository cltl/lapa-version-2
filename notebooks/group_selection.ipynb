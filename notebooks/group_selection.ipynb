{
 "cells": [
  {
   "cell_type": "markdown",
   "id": "f98e8042-1272-4ea6-90cf-d3f179d91e15",
   "metadata": {},
   "source": [
    "This notebook provides code that creates a new datafile only containing data of plays with certain properties. It takes a csv file with the full corpus and a metadata file as input. The user can specify which metadata properties the selected files should have and a new csv file containing only those files who have that data is produced."
   ]
  },
  {
   "cell_type": "code",
   "execution_count": 1,
   "id": "83ba6dea-67ea-4908-8e58-0816b9731e4a",
   "metadata": {},
   "outputs": [],
   "source": [
    "import pandas as pd"
   ]
  },
  {
   "cell_type": "code",
   "execution_count": 2,
   "id": "8fbdb495-2bb8-47bf-af21-53d40a83c651",
   "metadata": {},
   "outputs": [],
   "source": [
    "def create_selection_from_meta(metafile, selection_criteria):\n",
    "\n",
    "    #read in file with metadata\n",
    "    meta_df = pd.read_csv(metafile, encoding='latin1', delimiter=';')\n",
    "\n",
    "    # Apply filters to metadata\n",
    "    filtered_meta = meta_df\n",
    "    for column, value in selection_criteria.items():\n",
    "        filtered_meta = filtered_meta[filtered_meta[column] == value]\n",
    "\n",
    "    # Get the list of names that match the filter, assuming they are provided under the header \"ti_id\"\n",
    "    matching_names = filtered_meta['ti_id']\n",
    "\n",
    "    # return matching_names\n",
    "    return matching_names"
   ]
  },
  {
   "cell_type": "code",
   "execution_count": 3,
   "id": "3ddd0d7a-e19d-4fc3-a0fa-cc1b583f5908",
   "metadata": {},
   "outputs": [],
   "source": [
    "def obtain_selected_corpus_data(corpus_file, selected_names):\n",
    "\n",
    "    data_df = pd.read_csv(corpus_file)\n",
    "\n",
    "    #filename ids are the first column\n",
    "    name_col_index = 0\n",
    "\n",
    "    #revert filenames to their id in the metadata\n",
    "    file_names_as_ids = data_df.iloc[:, name_col_index].apply(lambda x: str(x).split('_')[0])\n",
    "    #check whether these ids are part of the selected set\n",
    "    selected = file_names_as_ids.isin(selected_names)\n",
    "    #select these files from the data\n",
    "    selected_data = data_df[selected]\n",
    "\n",
    "    \n",
    "\n",
    "    #return selected data\n",
    "    return selected_data"
   ]
  },
  {
   "cell_type": "code",
   "execution_count": 4,
   "id": "0dbb3bcf-7194-479a-b5f9-142469c6fe86",
   "metadata": {},
   "outputs": [],
   "source": [
    "# provide path to metadata file\n",
    "metafile = '../older_metadata_lapa.csv'\n",
    "\n",
    "# define selection criteria \n",
    "selection_criteria = {\n",
    "    'genre': 'drama'\n",
    "}\n",
    "\n",
    "selected_plays = create_selection_from_meta(metafile, selection_criteria)\n",
    "\n",
    "\n",
    "# provide path to full corpus data\n",
    "corpus_file = '../original_outdir/original_study_out_corpus_diffstddev.csv'\n",
    "\n",
    "selected_data = obtain_selected_corpus_data(corpus_file, selected_plays)\n",
    "\n",
    "\n",
    "#state name outputfile (e.g. ../groupselection/rodenbrug_plays.csv or ../groupselection/drama_plays,csv)\n",
    "outputfile = '../test_selection_drama.csv'\n",
    "\n",
    "selected_data.to_csv(outputfile, index=False)\n",
    "\n",
    "\n",
    "# additional examples selection criteria. General format is\n",
    "# selection_criteria = {\n",
    "# 'criterion1' : 'value',\n",
    "# 'criterion2' : 'value',\n",
    "# 'criterion3' : 'value'\n",
    "# }\n",
    "\n",
    "selection_criteria = {\n",
    "    'genre': 'drama'\n",
    "}\n",
    "\n",
    "\n",
    "selection_criteria = {\n",
    "    'achternaam' : 'Rodenburg',\n",
    "    'voornaam' : 'Theodoor'\n",
    "}\n",
    "\n"
   ]
  }
 ],
 "metadata": {
  "kernelspec": {
   "display_name": "Python 3 (ipykernel)",
   "language": "python",
   "name": "python3"
  },
  "language_info": {
   "codemirror_mode": {
    "name": "ipython",
    "version": 3
   },
   "file_extension": ".py",
   "mimetype": "text/x-python",
   "name": "python",
   "nbconvert_exporter": "python",
   "pygments_lexer": "ipython3",
   "version": "3.12.4"
  }
 },
 "nbformat": 4,
 "nbformat_minor": 5
}
