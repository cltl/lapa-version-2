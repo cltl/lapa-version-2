{
 "cells": [
  {
   "cell_type": "markdown",
   "id": "3c0fcce2-f626-41ca-8b6a-a8aa9329ce44",
   "metadata": {},
   "source": [
    "A notebook that provides the original sampify_cli code"
   ]
  },
  {
   "cell_type": "code",
   "execution_count": 1,
   "id": "629bc01b-769f-48f9-8b32-dba9f4d1987d",
   "metadata": {},
   "outputs": [],
   "source": [
    "from classes.sampify import Sampify\n",
    "from classes.naf import naf\n",
    "from os.path import exists, isdir, basename\n",
    "from pathlib import Path\n",
    "import sys, logging, os, datetime, csv\n",
    "#import argparse, sys, logging, xlwt, os, datetime, csv\n"
   ]
  },
  {
   "cell_type": "code",
   "execution_count": 2,
   "id": "112e697a-94e4-4587-b199-d47059807a00",
   "metadata": {},
   "outputs": [],
   "source": [
    "def addStreamToLogger(log,file=False,level=logging.DEBUG):\n",
    "    stream = logging.StreamHandler(sys.stdout)\n",
    "    if file: stream=logging.FileHandler(file,encoding='utf-8')\n",
    "    stream.setLevel(level)\n",
    "    stream.setFormatter(logging.Formatter(u'[%(asctime)s] [%(module)11s] [%(funcName)11s] [%(lineno)3s] [%(levelname)8s] - %(message)s',\"%Y-%m-%d %H:%M:%S\"))\n",
    "    log.addHandler(stream)\n"
   ]
  },
  {
   "cell_type": "code",
   "execution_count": 3,
   "id": "c8f36194-fe9d-4dea-8433-a7c3f33c2449",
   "metadata": {},
   "outputs": [],
   "source": [
    "def save_result(f, counts):\n",
    "    with open(f, 'w') as csvfile:\n",
    "        fieldnames = counts.keys()\n",
    "        writer = csv.DictWriter(csvfile, fieldnames=fieldnames)\n",
    "        writer.writeheader()\n",
    "        writer.writerow(counts)\n",
    "\n",
    "\n",
    "def save_result_csv(f, counts):\n",
    "    print(f.split('/')[-1].split('.xls')[0] + '.csv')\n",
    "    with open(f.replace('.xls','.csv'),'w') as csvfile:\n",
    "        fieldnames = counts.keys()\n",
    "        writer = csv.DictWriter(csvfile, fieldnames=fieldnames)\n",
    "        writer.writeheader()\n",
    "        writer.writerow(counts)\n"
   ]
  },
  {
   "cell_type": "code",
   "execution_count": 4,
   "id": "86f874b9-debb-4db5-8d45-d4936a170c58",
   "metadata": {},
   "outputs": [],
   "source": [
    "\n",
    "\n",
    "def process_one_naffile(rules_file, naf_file, out_path):\n",
    "\n",
    "    naf_file_name = basename(naf_file)\n",
    "    basename_naf = naf_file_name.split(\".\")[0]\n",
    "    out_file = out_path + '/' + basename_naf + '_' + 'counts.csv'\n",
    "    trs_file = out_path + '/' + basename_naf + '_' + 'translations.csv'\n",
    "\n",
    "    debugLog = logging.getLogger('debugLog')\n",
    "    debugLog.setLevel(logging.DEBUG)\n",
    "    #debugLog.setLevel(logging.WARNING)\n",
    "\n",
    "    addStreamToLogger(debugLog,file=out_path+'/debug.log',level=logging.DEBUG)\n",
    "    addStreamToLogger(debugLog,file=out_path+'/warn.log', level=logging.WARNING)\n",
    "\n",
    "    stdoutLog = logging.getLogger('stdoutLog')\n",
    "    stdoutLog.setLevel(logging.DEBUG)\n",
    "    addStreamToLogger(stdoutLog,level=logging.DEBUG)\n",
    "\n",
    "    R=Sampify(rules_file)\n",
    "    N=naf(naf_file)\n",
    "\n",
    "    translation_csv=N.translate(R)\n",
    "    with open(trs_file,\"w\") as f:\n",
    "        f.write(translation_csv)\n",
    "    N.doCount()\n",
    "\n",
    "    print(\"outfile\", out_file)\n",
    "    save_result(out_file, N.countSampa.count)"
   ]
  },
  {
   "cell_type": "code",
   "execution_count": 11,
   "id": "5d6b7342-0c37-4db1-8417-042656eacd30",
   "metadata": {},
   "outputs": [
    {
     "name": "stdout",
     "output_type": "stream",
     "text": [
      "buys001brui05_01.xml\n",
      "outfile ../../counts_test//buys001brui05_01_counts.csv\n",
      "bran002vein02_01.xml\n",
      "outfile ../../counts_test//bran002vein02_01_counts.csv\n",
      "bidl001eerz01_01.xml\n",
      "outfile ../../counts_test//bidl001eerz01_01_counts.csv\n",
      "baud004edip01_01.xml\n"
     ]
    },
    {
     "ename": "AttributeError",
     "evalue": "'NoneType' object has no attribute 'findall'",
     "output_type": "error",
     "traceback": [
      "\u001b[31m---------------------------------------------------------------------------\u001b[39m",
      "\u001b[31mAttributeError\u001b[39m                            Traceback (most recent call last)",
      "\u001b[36mCell\u001b[39m\u001b[36m \u001b[39m\u001b[32mIn[11]\u001b[39m\u001b[32m, line 15\u001b[39m\n\u001b[32m     13\u001b[39m \u001b[38;5;28mprint\u001b[39m(filename)\n\u001b[32m     14\u001b[39m inputfile = os.path.join(inputdir, filename)\n\u001b[32m---> \u001b[39m\u001b[32m15\u001b[39m \u001b[43mprocess_one_naffile\u001b[49m\u001b[43m(\u001b[49m\u001b[43mrule_path\u001b[49m\u001b[43m,\u001b[49m\u001b[43m \u001b[49m\u001b[43minputfile\u001b[49m\u001b[43m,\u001b[49m\u001b[43m \u001b[49m\u001b[43moutputdir\u001b[49m\u001b[43m)\u001b[49m\n",
      "\u001b[36mCell\u001b[39m\u001b[36m \u001b[39m\u001b[32mIn[4]\u001b[39m\u001b[32m, line 20\u001b[39m, in \u001b[36mprocess_one_naffile\u001b[39m\u001b[34m(rules_file, naf_file, out_path)\u001b[39m\n\u001b[32m     17\u001b[39m addStreamToLogger(stdoutLog,level=logging.DEBUG)\n\u001b[32m     19\u001b[39m R=Sampify(rules_file)\n\u001b[32m---> \u001b[39m\u001b[32m20\u001b[39m N=\u001b[43mnaf\u001b[49m\u001b[43m(\u001b[49m\u001b[43mnaf_file\u001b[49m\u001b[43m)\u001b[49m\n\u001b[32m     22\u001b[39m translation_csv=N.translate(R)\n\u001b[32m     23\u001b[39m \u001b[38;5;28;01mwith\u001b[39;00m \u001b[38;5;28mopen\u001b[39m(trs_file,\u001b[33m\"\u001b[39m\u001b[33mw\u001b[39m\u001b[33m\"\u001b[39m) \u001b[38;5;28;01mas\u001b[39;00m f:\n",
      "\u001b[36mFile \u001b[39m\u001b[32m~/Programming/FingerPrints/lapa-version-2/notebooks/classes/naf.py:21\u001b[39m, in \u001b[36mnaf.__init__\u001b[39m\u001b[34m(self, f, th)\u001b[39m\n\u001b[32m     18\u001b[39m    \u001b[38;5;28mself\u001b[39m.root  = \u001b[38;5;28mself\u001b[39m.tree.getroot()\n\u001b[32m     20\u001b[39m    \u001b[38;5;28mself\u001b[39m.debug.debug(\u001b[33m\"\u001b[39m\u001b[33mreading words from \u001b[39m\u001b[38;5;132;01m{0}\u001b[39;00m\u001b[33m\"\u001b[39m.format(f))\n\u001b[32m---> \u001b[39m\u001b[32m21\u001b[39m    \u001b[38;5;28mself\u001b[39m.WordList  = [word(i)  \u001b[38;5;28;01mfor\u001b[39;00m i \u001b[38;5;129;01min\u001b[39;00m \u001b[38;5;28;43mself\u001b[39;49m\u001b[43m.\u001b[49m\u001b[43mroot\u001b[49m\u001b[43m.\u001b[49m\u001b[43mfind\u001b[49m\u001b[43m(\u001b[49m\u001b[33;43m'\u001b[39;49m\u001b[33;43mtext\u001b[39;49m\u001b[33;43m'\u001b[39;49m\u001b[43m)\u001b[49m\u001b[43m.\u001b[49m\u001b[43mfindall\u001b[49m(\u001b[33m'\u001b[39m\u001b[33mwf\u001b[39m\u001b[33m'\u001b[39m)]\n\u001b[32m     22\u001b[39m    \u001b[38;5;28mself\u001b[39m.debug.debug(\u001b[33m\"\u001b[39m\u001b[33mreading lemmas from \u001b[39m\u001b[38;5;132;01m{0}\u001b[39;00m\u001b[33m\"\u001b[39m.format(f))\n\u001b[32m     23\u001b[39m \u001b[38;5;66;03m#   self.lemmas = [lemma(i) for i in self.root.find('terms')]\u001b[39;00m\n",
      "\u001b[31mAttributeError\u001b[39m: 'NoneType' object has no attribute 'findall'"
     ]
    }
   ],
   "source": [
    "#define input directory\n",
    "inputdir = '../../naf_input_test/'\n",
    "\n",
    "#provide path to rules\n",
    "rule_path = '../sources/RULES_A_V1._imported_from_xlsx.csv'\n",
    "\n",
    "#provide outputdir\n",
    "outputdir = '../../counts_test/'\n",
    "\n",
    "\n",
    "for filename in os.listdir(inputdir):\n",
    "    if filename.endswith(\".xml\") or filename.endswith(\".naf\"):\n",
    "        print(filename)\n",
    "        inputfile = os.path.join(inputdir, filename)\n",
    "        process_one_naffile(rule_path, inputfile, outputdir)"
   ]
  },
  {
   "cell_type": "code",
   "execution_count": null,
   "id": "837c9354-cf5f-47de-a56f-aa86d068090b",
   "metadata": {},
   "outputs": [],
   "source": []
  }
 ],
 "metadata": {
  "kernelspec": {
   "display_name": "Python 3 (ipykernel)",
   "language": "python",
   "name": "python3"
  },
  "language_info": {
   "codemirror_mode": {
    "name": "ipython",
    "version": 3
   },
   "file_extension": ".py",
   "mimetype": "text/x-python",
   "name": "python",
   "nbconvert_exporter": "python",
   "pygments_lexer": "ipython3",
   "version": "3.12.4"
  }
 },
 "nbformat": 4,
 "nbformat_minor": 5
}
