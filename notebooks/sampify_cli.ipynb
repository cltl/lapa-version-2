{
 "cells": [
  {
   "cell_type": "markdown",
   "id": "3c0fcce2-f626-41ca-8b6a-a8aa9329ce44",
   "metadata": {},
   "source": [
    "A notebook that provides the original sampify_cli code"
   ]
  },
  {
   "cell_type": "code",
   "execution_count": 2,
   "id": "629bc01b-769f-48f9-8b32-dba9f4d1987d",
   "metadata": {},
   "outputs": [],
   "source": [
    "from classes.sampify import Sampify\n",
    "from classes.naf import naf\n",
    "from os.path import exists, isdir, basename\n",
    "from pathlib import Path\n",
    "import sys, logging, os, datetime, csv\n",
    "#import argparse, sys, logging, xlwt, os, datetime, csv\n"
   ]
  },
  {
   "cell_type": "code",
   "execution_count": 3,
   "id": "112e697a-94e4-4587-b199-d47059807a00",
   "metadata": {},
   "outputs": [],
   "source": [
    "def addStreamToLogger(log,file=False,level=logging.DEBUG):\n",
    "    stream = logging.StreamHandler(sys.stdout)\n",
    "    if file: stream=logging.FileHandler(file,encoding='utf-8')\n",
    "    stream.setLevel(level)\n",
    "    stream.setFormatter(logging.Formatter(u'[%(asctime)s] [%(module)11s] [%(funcName)11s] [%(lineno)3s] [%(levelname)8s] - %(message)s',\"%Y-%m-%d %H:%M:%S\"))\n",
    "    log.addHandler(stream)\n"
   ]
  },
  {
   "cell_type": "code",
   "execution_count": 4,
   "id": "c8f36194-fe9d-4dea-8433-a7c3f33c2449",
   "metadata": {},
   "outputs": [],
   "source": [
    "def save_result(f, counts):\n",
    "    with open(f, 'w') as csvfile:\n",
    "        fieldnames = counts.keys()\n",
    "        writer = csv.DictWriter(csvfile, fieldnames=fieldnames)\n",
    "        writer.writeheader()\n",
    "        writer.writerow(counts)\n",
    "\n",
    "\n",
    "def save_result_csv(f, counts):\n",
    "    print(f.split('/')[-1].split('.xls')[0] + '.csv')\n",
    "    with open(f.replace('.xls','.csv'),'w') as csvfile:\n",
    "        fieldnames = counts.keys()\n",
    "        writer = csv.DictWriter(csvfile, fieldnames=fieldnames)\n",
    "        writer.writeheader()\n",
    "        writer.writerow(counts)\n"
   ]
  },
  {
   "cell_type": "code",
   "execution_count": 5,
   "id": "86f874b9-debb-4db5-8d45-d4936a170c58",
   "metadata": {},
   "outputs": [],
   "source": [
    "\n",
    "\n",
    "def process_one_naffile(rules_file, naf_file, out_path):\n",
    "\n",
    "    naf_file_name = basename(naf_file)\n",
    "    basename_naf = naf_file_name.split(\".\")[0]\n",
    "    out_file = out_path + '/' + basename_naf + '_' + 'counts.csv'\n",
    "    trs_file = out_path + '/' + basename_naf + '_' + 'translations.csv'\n",
    "\n",
    "    debugLog = logging.getLogger('debugLog')\n",
    "    debugLog.setLevel(logging.DEBUG)\n",
    "    #debugLog.setLevel(logging.WARNING)\n",
    "\n",
    "    addStreamToLogger(debugLog,file=out_path+'/debug.log',level=logging.DEBUG)\n",
    "    addStreamToLogger(debugLog,file=out_path+'/warn.log', level=logging.WARNING)\n",
    "\n",
    "    stdoutLog = logging.getLogger('stdoutLog')\n",
    "    stdoutLog.setLevel(logging.DEBUG)\n",
    "    addStreamToLogger(stdoutLog,level=logging.DEBUG)\n",
    "\n",
    "    R=Sampify(rules_file)\n",
    "    N=naf(naf_file)\n",
    "\n",
    "    translation_csv=N.translate(R)\n",
    "    with open(trs_file,\"w\") as f:\n",
    "        f.write(translation_csv)\n",
    "    N.doCount()\n",
    "\n",
    "    print(\"outfile\", out_file)\n",
    "    save_result(out_file, N.countSampa.count)"
   ]
  },
  {
   "cell_type": "code",
   "execution_count": 7,
   "id": "5d6b7342-0c37-4db1-8417-042656eacd30",
   "metadata": {},
   "outputs": [
    {
     "name": "stdout",
     "output_type": "stream",
     "text": [
      "outfile ../small_out//HarenAgon1769_counts.csv\n",
      "outfile ../small_out//HartsenWedergevondenZoon1759_counts.csv\n",
      "outfile ../small_out//HartsenMoederVertrouwde1762_counts.csv\n",
      "outfile ../small_out//HeyligertCalas1767_counts.csv\n"
     ]
    }
   ],
   "source": [
    "#define input directory\n",
    "inputdir = '../small_naf_in/'\n",
    "\n",
    "#provide path to rules\n",
    "rule_path = '../sources/RULES_A_V1._imported_from_xlsx.csv'\n",
    "\n",
    "#provide outputdir\n",
    "outputdir = '../small_out/'\n",
    "\n",
    "\n",
    "for filename in os.listdir(inputdir):\n",
    "    inputfile = os.path.join(inputdir, filename)\n",
    "    process_one_naffile(rule_path, inputfile, outputdir)"
   ]
  },
  {
   "cell_type": "code",
   "execution_count": null,
   "id": "837c9354-cf5f-47de-a56f-aa86d068090b",
   "metadata": {},
   "outputs": [],
   "source": []
  }
 ],
 "metadata": {
  "kernelspec": {
   "display_name": "Python 3 (ipykernel)",
   "language": "python",
   "name": "python3"
  },
  "language_info": {
   "codemirror_mode": {
    "name": "ipython",
    "version": 3
   },
   "file_extension": ".py",
   "mimetype": "text/x-python",
   "name": "python",
   "nbconvert_exporter": "python",
   "pygments_lexer": "ipython3",
   "version": "3.12.4"
  }
 },
 "nbformat": 4,
 "nbformat_minor": 5
}
