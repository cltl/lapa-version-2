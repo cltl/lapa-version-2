{
 "cells": [
  {
   "cell_type": "markdown",
   "id": "88f36c61-c5a1-4817-8cad-7f9cb7c7e9aa",
   "metadata": {},
   "source": [
    "This notebook provides functions for creating a csv file containing all counts from a single corpus as well as functions that calculate percentages per sound and the standard deviation over the corpus. "
   ]
  },
  {
   "cell_type": "code",
   "execution_count": 1,
   "id": "6fabc964-1ea5-46a7-954d-e6fa0e5fc97e",
   "metadata": {},
   "outputs": [],
   "source": [
    "import sys\n",
    "import os\n",
    "import pandas as pd\n",
    "import statistics"
   ]
  },
  {
   "cell_type": "code",
   "execution_count": 2,
   "id": "53efbdeb-8620-4b8b-aeda-794a3dbc992d",
   "metadata": {},
   "outputs": [],
   "source": [
    "def obtain_counts(inputdir, totals=False):\n",
    "\n",
    "\n",
    "    counts_collection = []\n",
    "    for filename in os.listdir(inputdir):\n",
    "        if filename.endswith(\"_counts.csv\"):\n",
    "            mycsv = pd.read_csv(os.path.join(inputdir, filename))\n",
    "            play_name = filename.rstrip(\"_counts.csv\")\n",
    "            mycsv.index = [play_name]\n",
    "            counts_collection.append(mycsv)\n",
    "\n",
    "    corpus_counts = pd.concat(counts_collection)\n",
    "    \n",
    "    # Total sum per column:\n",
    "    corpus_counts.loc['Total', :] = corpus_counts.sum(axis=0)\n",
    "\n",
    "    # Total sum per row:\n",
    "    if totals:\n",
    "        corpus_counts.loc[:, 'Total'] = corpus_counts.sum(axis=1)\n",
    "\n",
    "    return corpus_counts"
   ]
  },
  {
   "cell_type": "code",
   "execution_count": 3,
   "id": "740a8cc6-9644-4ed2-8cfa-1b4933aa74bd",
   "metadata": {},
   "outputs": [],
   "source": [
    "def obtain_percentages(corpus_counts):\n",
    "\n",
    "    corpus_stats = corpus_counts.copy()\n",
    "    corpus_stats.iloc[:, 0:] = corpus_stats.iloc[:, 0:].apply(lambda x: x.div(x.sum()), axis=1).astype(float)\n",
    "\n",
    "    return corpus_stats"
   ]
  },
  {
   "cell_type": "code",
   "execution_count": 4,
   "id": "ffab6553-c65d-49cd-8f38-8e14bbb8b835",
   "metadata": {},
   "outputs": [],
   "source": [
    "\n",
    "def obtain_stdevs(corpus_stats):\n",
    "\n",
    "    corpus_stdevs = corpus_stats.copy()\n",
    "    #dropping the line with totals since these should not be taken into account when calculating the stdev\n",
    "    corpus_stdevs.drop(corpus_stats.tail(1).index,inplace=True)\n",
    "    corpus_stdevs = corpus_stdevs.std()\n",
    "\n",
    "    return corpus_stdevs"
   ]
  },
  {
   "cell_type": "code",
   "execution_count": 5,
   "id": "93743e94-caa2-4c81-9fb4-ef3a22c2bca1",
   "metadata": {},
   "outputs": [],
   "source": [
    "\n",
    "def create_outfile_name(inputdir):\n",
    "    \n",
    "    if inputdir.endswith(\"/\"):\n",
    "        outfilename = inputdir.split('/')[-2] + \"_corpus_counts.csv\"\n",
    "    else:\n",
    "        outfilename = inputdir.split('/')[-1] + \"_corpus_counts.csv\"\n",
    "\n",
    "    return outfilename"
   ]
  },
  {
   "cell_type": "code",
   "execution_count": 6,
   "id": "b7813438-397d-4155-a1b7-2389b63b2a96",
   "metadata": {},
   "outputs": [],
   "source": [
    "\n",
    "def get_all_corpus_statistics(inputdir, outputdir):\n",
    "    '''This function provides the first steps for obtaining corpus statistics in one go (from directory with counts to standard deviations)'''\n",
    "    \n",
    "    corpus_counts = obtain_counts(inputdir)\n",
    "    corpus_stats = obtain_percentages(corpus_counts)\n",
    "    corpus_std = obtain_stdevs(corpus_stats)\n",
    "    # write out corpus counts to file\n",
    "    if not os.path.isdir(outputdir):\n",
    "        os.mkdir(outputdir)\n",
    "    outfilename = create_outfile_name(inputdir)\n",
    "    #check if output dir exists and create if not\n",
    "\n",
    "    corpus_counts.to_csv(os.path.join(outputdir, outfilename), index=True)\n",
    "    stats_out = outfilename.replace(\"_counts.csv\", \"_stats.csv\")\n",
    "    corpus_stats.to_csv(os.path.join(outputdir, stats_out))\n",
    "    std_out = outfilename.replace(\"_counts.csv\", \"_stdev.csv\")\n",
    "    corpus_std.to_csv(os.path.join(outputdir, std_out))"
   ]
  },
  {
   "cell_type": "code",
   "execution_count": 7,
   "id": "1a14f547-346e-45ea-bd17-59a305abee5c",
   "metadata": {},
   "outputs": [],
   "source": [
    "\n",
    "\n",
    "\n",
    "def subtract_total_row(df):\n",
    "    \n",
    "    # Ensure 'Total' is in the index\n",
    "    if 'Total' not in df.index:\n",
    "        raise ValueError(\"DataFrame must have a row with index 'Total'\")\n",
    "\n",
    "    # Get the Total row\n",
    "    total_row = df.loc['Total']\n",
    "\n",
    "    # Subtract Total row from all other rows\n",
    "    df_diff = df.drop('Total').subtract(total_row)\n",
    "\n",
    "    return df_diff\n",
    "\n",
    "\n",
    "\n",
    "def analyze_corpus(statsfile, stdev, outputfile):\n",
    "\n",
    "\n",
    "    new_stdevs = pd.read_csv(stdev, index_col=0)\n",
    "    #transpose since now it is one column\n",
    "    new_stdevs = new_stdevs.T\n",
    "\n",
    "    my_stats = pd.read_csv(statsfile, index_col=0)\n",
    "    #calculate difference between percentage in row and average percentage\n",
    "    differences = subtract_total_row(my_stats)\n",
    "    \n",
    "    #calculate how many stdev the value differs\n",
    "    times_stdev = differences / new_stdevs.iloc[0]\n",
    "    times_stdev.to_csv(outputfile)"
   ]
  },
  {
   "cell_type": "code",
   "execution_count": 8,
   "id": "fdb45cf9-da5f-4ab7-97b5-54731787b524",
   "metadata": {},
   "outputs": [],
   "source": [
    "#Step 1: call function to obtain counts spreadsheet\n",
    "\n",
    "#define input directory\n",
    "inputdir = '../original_study_out/'\n",
    "corpus_counts = obtain_counts(inputdir)\n",
    "\n",
    "#define output directory\n",
    "outputdir = '../extra_nb_test/'\n",
    "if not os.path.isdir(outputdir):\n",
    "    os.mkdir(outputdir)\n",
    "#this can also be replaced by an outfilename of choice\n",
    "outfilename = create_outfile_name(inputdir)\n",
    "\n",
    "#write out counts output file\n",
    "corpus_counts.to_csv(os.path.join(outputdir, outfilename), index=True)"
   ]
  },
  {
   "cell_type": "code",
   "execution_count": 11,
   "id": "a0c5411f-565f-4528-b76f-9a14343ae7da",
   "metadata": {},
   "outputs": [],
   "source": [
    "#Step 2 obtain percentages and standard deviation. \n",
    "#The current setup assumes the pervious cell has been run write before and corpus_counts and outfilename are defined \n",
    "\n",
    "corpus_stats = obtain_percentages(corpus_counts)\n",
    "corpus_std = obtain_stdevs(corpus_stats)\n",
    "\n",
    "stats_out = os.path.join(outputdir,outfilename.replace(\"_counts.csv\", \"_stats.csv\"))\n",
    "corpus_stats.to_csv(stats_out)\n",
    "std_out = os.path.join(outputdir,outfilename.replace(\"_counts.csv\", \"_stdev.csv\"))\n",
    "corpus_std.to_csv(std_out)"
   ]
  },
  {
   "cell_type": "code",
   "execution_count": 12,
   "id": "714f8335-5f85-4316-9c59-22bc7a49ffdf",
   "metadata": {},
   "outputs": [],
   "source": [
    "#Step 3 create overview of how many times standard deviation each sound deviates\n",
    "#The current setup assumes previous cells were run just before, if not define paths to stats_out, stdev_out\n",
    "\n",
    "stddev_overview_out = outfilename.replace(\"_counts.csv\", \"difference_in_stdev.csv\")\n",
    "#ugly, make prettier\n",
    "analyze_corpus(stats_out, std_out, stddev_overview_out)"
   ]
  },
  {
   "cell_type": "code",
   "execution_count": null,
   "id": "055bbe7a-277d-4627-b9d9-e96bad0cf5b5",
   "metadata": {},
   "outputs": [],
   "source": []
  }
 ],
 "metadata": {
  "kernelspec": {
   "display_name": "Python 3 (ipykernel)",
   "language": "python",
   "name": "python3"
  },
  "language_info": {
   "codemirror_mode": {
    "name": "ipython",
    "version": 3
   },
   "file_extension": ".py",
   "mimetype": "text/x-python",
   "name": "python",
   "nbconvert_exporter": "python",
   "pygments_lexer": "ipython3",
   "version": "3.12.4"
  }
 },
 "nbformat": 4,
 "nbformat_minor": 5
}
