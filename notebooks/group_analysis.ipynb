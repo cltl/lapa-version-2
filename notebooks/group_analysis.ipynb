{
 "cells": [
  {
   "cell_type": "markdown",
   "id": "c3106de1-9b9e-454c-b229-0f04b7195dd6",
   "metadata": {},
   "source": [
    "This notebook provides functions for group analysis based on sound deviations observed in individual plays. As a basis it takes a file with standard deviations per sound for each play as input. Individual functions obtain information on the percentage of plays with a deviation, the average number of deviations over the corpus and among those plays that have at least one deviation as well as the number of deviations where sounds occur more frequently and where they occur less frequently than average. In addition, the number of times individual sounds deviate is provided, presented from most deviating to less often deviating sound."
   ]
  },
  {
   "cell_type": "code",
   "execution_count": null,
   "id": "48824b2a-e06e-40bc-abcd-a8a1a0f8d986",
   "metadata": {},
   "outputs": [],
   "source": [
    "import pandas as pd"
   ]
  },
  {
   "cell_type": "code",
   "execution_count": null,
   "id": "d1fd86ec-39b2-41cd-83bc-2c9c241bfc9f",
   "metadata": {},
   "outputs": [],
   "source": [
    "def provide_percentages_of_deviations_in_plays(df, abs_values_2stdev):\n",
    "\n",
    "    # Check each row with 2stddev indicated: does it have *any* True value\n",
    "    rows_with_at_least_one_deviation = abs_values_2stdev.any(axis=1)\n",
    "\n",
    "    # Compute percentage of such rows\n",
    "    percentage_containing_deviation = (rows_with_at_least_one_deviation.sum() / len(df)) * 100\n",
    "\n",
    "    # the average number of deviations per play in the group (over all plays)\n",
    "    avg_n_deviations_all_rows = abs_values_2stdev.sum(axis=1).mean()\n",
    "\n",
    "    # the average number of deviations per play in the group over those plays that have at least one deviation\n",
    "    avg_n_deviations_deviating_rows = abs_values_2stdev[abs_values_2stdev.any(axis=1)].sum(axis=1).mean()\n",
    "\n",
    "    # the percentage of deviations with ≥ +2 SD (above the mean) over all plays\n",
    "    positive_2stdeviations = (df >= 2).sum().sum() / df.size * 100\n",
    "\n",
    "    # the percentage of values ≤ -2 SD (below the mean) over all plays\n",
    "    negative_2stdeviations = (df <= -2).sum().sum() / df.size * 100\n",
    "\n",
    "    #print outcomes\n",
    "    print(f\"Percentage of plays with at least one deviating sound (over 2 stdev): {percentage_containing_deviation:.2f}%\")\n",
    "    \n",
    "    print(f\"Average sound deviations in the group (all plays): {avg_n_deviations_all_rows:.2f}%\")\n",
    "    print(f\"Average sound deviations in the group (only plays with at least one deviation): {avg_n_deviations_deviating_rows:.2f}%\")\n",
    "    print(f\"Percentage of sounds occurring (at least 2 stddev) more than average (all plays in group): {positive_2stdeviations:.2f}%\")\n",
    "    print(f\"Percentage of sounds occurring (at least 2 stddev) less than average (all plays in group): {negative_2stdeviations:.2f}%\")"
   ]
  },
  {
   "cell_type": "code",
   "execution_count": null,
   "id": "6bc646dc-7468-4125-9ec1-7c52893e2cb6",
   "metadata": {},
   "outputs": [],
   "source": [
    "def provide_overview_of_most_commonly_deviating_sounds(df, abs_values2stdev):\n",
    "\n",
    "\n",
    "    sorted_deviations = abs_values2stdev.sum().sort_values(ascending=False)\n",
    "    print(sorted_deviations)\n",
    "    \n",
    "    #deviation_counts = abs_values2stdev.sum()\n",
    "    #print(deviation_counts)\n",
    "    #top5_deviations = sorted_deviations.head(5)\n",
    "    #print(top5_deviations)"
   ]
  },
  {
   "cell_type": "code",
   "execution_count": null,
   "id": "441a922a-22d9-43a0-9b24-40cfdda1f78d",
   "metadata": {},
   "outputs": [],
   "source": [
    "#provide path to input file here\n",
    "\n",
    "my_input_csv_file = \"../original_outdir/original_study_out_corpus_diffstddev.csv\"\n",
    "\n",
    "#read in csv file (header is 0 specifically states the first row specifies the phenomena\n",
    "df = pd.read_csv(my_input_csv_file, header = 0)\n",
    "\n",
    "#exclude first column with filenames\n",
    "numeric_df = df.iloc[:, 1:]\n",
    "\n",
    "#get values with at least 2 stddev deviation\n",
    "abs_values_2stdev = numeric_df.abs() >= 2\n",
    "\n",
    "#obtains stats per play\n",
    "provide_percentages_of_deviations_in_plays(numeric_df, abs_values_2stdev)\n",
    "\n",
    "#obtains stats per sound\n",
    "provide_overview_of_most_commonly_deviating_sounds(numeric_df, abs_values_2stdev)\n"
   ]
  },
  {
   "cell_type": "code",
   "execution_count": null,
   "id": "6c88c90a-9eed-4f59-bde7-62b682340738",
   "metadata": {},
   "outputs": [],
   "source": []
  }
 ],
 "metadata": {
  "kernelspec": {
   "display_name": "Python 3 (ipykernel)",
   "language": "python",
   "name": "python3"
  },
  "language_info": {
   "codemirror_mode": {
    "name": "ipython",
    "version": 3
   },
   "file_extension": ".py",
   "mimetype": "text/x-python",
   "name": "python",
   "nbconvert_exporter": "python",
   "pygments_lexer": "ipython3",
   "version": "3.12.4"
  }
 },
 "nbformat": 4,
 "nbformat_minor": 5
}
